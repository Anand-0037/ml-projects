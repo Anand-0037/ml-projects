{
 "cells": [
  {
   "cell_type": "code",
   "execution_count": null,
   "id": "a9213ff2",
   "metadata": {},
   "outputs": [],
   "source": [
    "# Import required libraries\n",
    "import pandas as pd\n",
    "import numpy as np\n",
    "import matplotlib.pyplot as plt\n",
    "import seaborn as sns\n",
    "\n",
    "#loading\n",
    "# Set plot style\n",
    "sns.set(style='whitegrid')"
   ]
  },
  {
   "cell_type": "markdown",
   "id": "5f922d19",
   "metadata": {},
   "source": [
    "## What is EDA?\n",
    "\n",
    "Exploratory Data Analysis (EDA) is the process of analyzing datasets to summarize their main characteristics, often using visual methods. EDA helps you:\n",
    "- Understand the structure and content of your data\n",
    "- Detect patterns, anomalies, and relationships\n",
    "- Prepare data for modeling\n",
    "\n",
    "\n",
    "## About the Iris Dataset\n",
    "The Iris dataset is a classic dataset in machine learning and statistics. It contains 150 samples of iris flowers, each described by four features (sepal length, sepal width, petal length, petal width) and a species label."
   ]
  },
  {
   "cell_type": "markdown",
   "id": "62ab7acc",
   "metadata": {},
   "source": [
    "# EDA Portfolio Project: Iris Dataset\n",
    "\n",
    "Welcome to the Exploratory Data Analysis (EDA) portfolio! This notebook demonstrates a complete EDA workflow on the classic Iris dataset. You can use this as a template for your own EDA projects.\n",
    "\n",
    "\n",
    "**Steps covered:**\n",
    "- Data loading and summary\n",
    "- Descriptive statistics\n",
    "- Data visualization (histograms, boxplots, pairplots, heatmaps)\n",
    "- Outlier and missing value check\n",
    "- Feature engineering example\n",
    "- Insights and conclusions\n",
    "\n",
    "\n",
    "---"
   ]
  }
 ],
 "metadata": {
  "language_info": {
   "name": "python"
  }
 },
 "nbformat": 4,
 "nbformat_minor": 5
}
